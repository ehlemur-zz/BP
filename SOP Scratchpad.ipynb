{
 "cells": [
  {
   "cell_type": "markdown",
   "metadata": {},
   "source": [
    "# Imports"
   ]
  },
  {
   "cell_type": "code",
   "execution_count": 1,
   "metadata": {
    "collapsed": false
   },
   "outputs": [],
   "source": [
    "import glob\n",
    "import os\n",
    "import struct\n",
    "import time\n",
    "import bottleneck\n",
    "\n",
    "import numpy as np\n",
    "import pylab as plt\n",
    "import scipy.ndimage as spImage\n",
    "import sklearn.linear_model as sklLinear\n",
    "import sklearn.kernel_ridge as sklKRR\n",
    "\n",
    "%matplotlib inline\n",
    "plt.rcParams['figure.figsize'] = (30.0, 30.0)"
   ]
  },
  {
   "cell_type": "markdown",
   "metadata": {},
   "source": [
    "# Utility"
   ]
  },
  {
   "cell_type": "markdown",
   "metadata": {},
   "source": [
    "## Utility functions"
   ]
  },
  {
   "cell_type": "code",
   "execution_count": 2,
   "metadata": {
    "collapsed": true
   },
   "outputs": [],
   "source": [
    "def distort(A, scale):\n",
    "  if scale == 0:\n",
    "    return A\n",
    "  return np.clip(A + np.random.normal(scale=scale, size=A.shape), 0, 1)"
   ]
  },
  {
   "cell_type": "code",
   "execution_count": 3,
   "metadata": {
    "collapsed": true
   },
   "outputs": [],
   "source": [
    "def plot_many(shape, n_cols, *imgs):\n",
    "  imgs = np.array(imgs)\n",
    "  imgs = imgs.reshape(-1, *shape)\n",
    "  n_imgs = imgs.shape[0]\n",
    "  n_rows = (n_imgs + n_cols - 1) / n_cols\n",
    "\n",
    "  f = plt.figure()\n",
    "  for i, img in enumerate(imgs):\n",
    "    row = i % n_rows\n",
    "    col = i / n_rows\n",
    "    f.add_subplot(n_rows, n_cols, row * n_cols + col + 1)\n",
    "    plt.imshow(-img, cmap='Greys', interpolation='none')\n",
    "  plt.show()"
   ]
  },
  {
   "cell_type": "code",
   "execution_count": 4,
   "metadata": {
    "collapsed": true
   },
   "outputs": [],
   "source": [
    "def L2(X):\n",
    "  return np.sqrt(np.sum(X**2))"
   ]
  },
  {
   "cell_type": "code",
   "execution_count": 5,
   "metadata": {
    "collapsed": true
   },
   "outputs": [],
   "source": [
    "def L2_squared(X):\n",
    "  return np.sum(X**2)"
   ]
  },
  {
   "cell_type": "code",
   "execution_count": 6,
   "metadata": {
    "collapsed": true
   },
   "outputs": [],
   "source": [
    "def MSE(X, Y):\n",
    "  return L2_squared(X - Y) / X.shape[0]"
   ]
  },
  {
   "cell_type": "code",
   "execution_count": 7,
   "metadata": {
    "collapsed": true
   },
   "outputs": [],
   "source": [
    "def normalize(X):\n",
    "  X = X.T\n",
    "  X -= np.min(X, axis=0)\n",
    "  X /= np.max(X, axis=0)\n",
    "  return X.T"
   ]
  },
  {
   "cell_type": "code",
   "execution_count": 8,
   "metadata": {
    "collapsed": true
   },
   "outputs": [],
   "source": [
    "def difference_matrix(X, Y):\n",
    "  D = np.zeros((X.shape[0], Y.shape[0], Y.shape[1]))\n",
    "  for i in xrange(X.shape[0]):\n",
    "    D[i] = X[i] - Y\n",
    "  return D"
   ]
  },
  {
   "cell_type": "code",
   "execution_count": 9,
   "metadata": {
    "collapsed": false
   },
   "outputs": [],
   "source": [
    "def rbf(X, Y, sigma=400):\n",
    "  D = np.zeros((X.shape[0], Y.shape[0]))\n",
    "  for i in xrange(X.shape[0]):\n",
    "    D[i] = np.sum((X[i] - Y)**2, axis=1)\n",
    "  return np.exp(-.5 * D / sigma)"
   ]
  },
  {
   "cell_type": "code",
   "execution_count": 10,
   "metadata": {
    "collapsed": true
   },
   "outputs": [],
   "source": [
    "def drbf(X, Y, sigma=400):\n",
    "  D = difference_matrix(X, Y)\n",
    "  F = np.exp(-.5 * np.sum(D**2, axis=2) / sigma)\n",
    "  J = -D.transpose(2, 0, 1) / sigma\n",
    "  for i in range(J.shape[0]):\n",
    "    J[i] *= F\n",
    "  return F, J.transpose(1, 2, 0)"
   ]
  },
  {
   "cell_type": "markdown",
   "metadata": {},
   "source": [
    "## Timer"
   ]
  },
  {
   "cell_type": "code",
   "execution_count": 11,
   "metadata": {
    "collapsed": true
   },
   "outputs": [],
   "source": [
    "class Timer:\n",
    "  def __init__(self, msg):\n",
    "    self.msg = msg\n",
    "    self.interrupted = False\n",
    "\n",
    "  def __enter__(self):\n",
    "    print \"Started \" + self.msg\n",
    "    self.t = time.time()\n",
    "\n",
    "  def __exit__(self, type_, value_, traceback_):\n",
    "    if type_ is None:\n",
    "      print \"Finished \" + self.msg + \" \" + self._format(time.time() - self.t)\n",
    "    else:\n",
    "      print \"Interrupted \" + self.msg + \" after \" + self._format(time.time() - self.t)\n",
    "\n",
    "  def _format(self, t):\n",
    "    if t >= 60:\n",
    "      m = int(t / 60)\n",
    "      s = int(t - 60 * m)\n",
    "      return \"%dm %ds\" % (m, s)\n",
    "    return \"%.2fs\" % t\n"
   ]
  },
  {
   "cell_type": "markdown",
   "metadata": {},
   "source": [
    "# SOAR"
   ]
  },
  {
   "cell_type": "code",
   "execution_count": 12,
   "metadata": {
    "collapsed": false
   },
   "outputs": [],
   "source": [
    "class SOAR:\n",
    "  def __init__(self, kernel, alpha=1, batch_size=80, predict_epochs=300, predict_tol=1e-7, verbose=0):\n",
    "    self.kernel = kernel\n",
    "    self.alpha = alpha\n",
    "    self.batch_size = batch_size\n",
    "    self.predict_epochs = predict_epochs\n",
    "    self.predict_tol = predict_tol\n",
    "    self.verbose = verbose\n",
    "    \n",
    "  def fit(self, neutral, smiling):\n",
    "    self.n, self.d = smiling.shape\n",
    "    \n",
    "    self.neutral = neutral\n",
    "    self.smiling = smiling\n",
    "\n",
    "    self.fit_epochs = (self.n + self.batch_size - 1) / self.batch_size\n",
    "    \n",
    "    if self.verbose > 0:\n",
    "      print 'Training with batch_size={} in {} epochs'.format(self.batch_size, self.fit_epochs)\n",
    "    \n",
    "    self.a = np.zeros((self.n, self.d))\n",
    "    for i in range(self.fit_epochs):\n",
    "      fr = i * self.batch_size\n",
    "      to = (i + 1) * self.batch_size\n",
    "      neutral_idxs = neutral[fr:to]\n",
    "      smiling_idxs = smiling[fr:to]\n",
    "      I_n = self.alpha * np.eye(neutral_idxs.shape[0])\n",
    "      self.kernel.set_x(neutral_idxs, neutral_idxs)   # (n, n)\n",
    "      self.kernel.set_y(smiling_idxs, smiling_idxs)   # (n, n)\n",
    "      for j in range(self.d):\n",
    "        if self.verbose > 0 and j % self.verbose == 0:\n",
    "          print 'Training feature {} at epoch {}'.format(j, i)\n",
    "        self.a[fr:to,j] = (np.linalg.inv(self.kernel(j) + I_n)\n",
    "                           .dot(smiling_idxs[:,j]))\n",
    "    self.a = self.a.T\n",
    "        \n",
    "    return self\n",
    "\n",
    "  def predict(self, X, Y0=None):\n",
    "    Y1 = X if Y0 is None else Y0\n",
    "    self.kernel.set_x(X, self.neutral)\n",
    "    for _ in range(self.predict_epochs):\n",
    "      self.kernel.set_y(Y1, self.smiling)\n",
    "      Y2 = np.zeros(Y1.shape)\n",
    "      for j in range(self.d):\n",
    "        Y2[:,j] = self.kernel(j).dot(self.a[j])\n",
    "      Y2 = normalize(Y2)\n",
    "      d = MSE(Y1, Y2)\n",
    "      if self.verbose > 0 and _ % self.verbose == 0:\n",
    "        print 'Iteration #{} d={}'.format(_, d)\n",
    "      if d < self.predict_tol:\n",
    "        break\n",
    "      Y1 = Y2\n",
    "    return Y1"
   ]
  },
  {
   "cell_type": "markdown",
   "metadata": {},
   "source": [
    "# Faces"
   ]
  },
  {
   "cell_type": "markdown",
   "metadata": {},
   "source": [
    "## Constants"
   ]
  },
  {
   "cell_type": "code",
   "execution_count": 157,
   "metadata": {
    "collapsed": false
   },
   "outputs": [],
   "source": [
    "FACES_DIM = 9216\n",
    "FACES_SHAPE = (96, 96)\n",
    "\n",
    "NEUTRAL_FACES_GLOB = 'faces/*a*'  # Select all the neutral faces\n",
    "SMILING_FACES_GLOB = 'faces/*b*'  # Select all the smiling faces\n",
    "\n",
    "FACES_SPLIT = 150\n",
    "FACES_REPEAT = 1\n",
    "FACES_DISTORTION = 0# .05"
   ]
  },
  {
   "cell_type": "markdown",
   "metadata": {},
   "source": [
    "## Load Faces"
   ]
  },
  {
   "cell_type": "code",
   "execution_count": 179,
   "metadata": {
    "collapsed": false
   },
   "outputs": [],
   "source": [
    "def read_faces(faces_glob):\n",
    "  faces = []\n",
    "  for filename in sorted(glob.glob(faces_glob)):\n",
    "    faces.append(spImage.imread(filename, flatten=True).flatten())\n",
    "  return np.array(faces) / 255\n",
    "\n",
    "neutral = read_faces(NEUTRAL_FACES_GLOB)\n",
    "smiling = read_faces(SMILING_FACES_GLOB)\n",
    "\n",
    "p = np.random.permutation(neutral.shape[0])\n",
    "neutral = neutral[p]\n",
    "smiling = smiling[p]"
   ]
  },
  {
   "cell_type": "markdown",
   "metadata": {},
   "source": [
    "## Split into input/output and training/testing"
   ]
  },
  {
   "cell_type": "code",
   "execution_count": 180,
   "metadata": {
    "collapsed": false
   },
   "outputs": [],
   "source": [
    "def flip_faces(faces):\n",
    "  return faces.reshape(-1, *FACES_SHAPE)[:,:,::-1].reshape(-1, FACES_DIM)\n",
    "\n",
    "neutral_training = np.append(neutral[:FACES_SPLIT], smiling[:FACES_SPLIT], axis=0)\n",
    "smiling_training = np.append(smiling[:FACES_SPLIT], smiling[:FACES_SPLIT], axis=0)\n",
    "\n",
    "neutral_training = np.append(neutral_training, flip_faces(neutral_training), axis=0)\n",
    "smiling_training = np.append(smiling_training, flip_faces(smiling_training), axis=0)\n",
    "\n",
    "neutral_training = distort(np.repeat(neutral_training, FACES_REPEAT, axis=0), FACES_DISTORTION)\n",
    "smiling_training = np.repeat(smiling_training, FACES_REPEAT, axis=0)\n",
    "  \n",
    "neutral_test = normalize(neutral[FACES_SPLIT:])# np.append(neutral[SPLIT_1:], smiling[SPLIT_1:], axis=0)\n",
    "smiling_test = normalize(smiling[FACES_SPLIT:])# np.append(smiling[SPLIT_1:], smiling[SPLIT_1:], axis=0)"
   ]
  },
  {
   "cell_type": "markdown",
   "metadata": {},
   "source": [
    "## Load faces not part of the dataset"
   ]
  },
  {
   "cell_type": "code",
   "execution_count": 181,
   "metadata": {
    "collapsed": false
   },
   "outputs": [],
   "source": [
    "some_woman = spImage.imread('some_woman.jpeg', flatten=True).reshape(1, 9216) / 255\n",
    "some_guy = spImage.imread('some_guy.jpeg', flatten=True).reshape(1, 9216) / 255\n",
    "obama = spImage.imread('obama.jpeg', flatten=True).reshape(1, 9216) / 255\n",
    "lemur_face = spImage.imread('lemur_face.jpeg', flatten=True).reshape(1, 9216) / 255\n",
    "panther_face = spImage.imread('../panther.jpeg', flatten=True).reshape(1, 9216) / 255"
   ]
  },
  {
   "cell_type": "markdown",
   "metadata": {},
   "source": [
    "# Baseline"
   ]
  },
  {
   "cell_type": "markdown",
   "metadata": {},
   "source": [
    "## Ridge Regression"
   ]
  },
  {
   "cell_type": "code",
   "execution_count": 182,
   "metadata": {
    "collapsed": false
   },
   "outputs": [],
   "source": [
    "rr = sklLinear.Ridge(alpha=0.1).fit(neutral_training, smiling_training)"
   ]
  },
  {
   "cell_type": "code",
   "execution_count": 183,
   "metadata": {
    "collapsed": false
   },
   "outputs": [],
   "source": [
    "rr_pred = normalize(rr.predict(neutral_test))"
   ]
  },
  {
   "cell_type": "markdown",
   "metadata": {},
   "source": [
    "## Ridge Regression (with a twist)"
   ]
  },
  {
   "cell_type": "code",
   "execution_count": 184,
   "metadata": {
    "collapsed": false
   },
   "outputs": [],
   "source": [
    "rr_twist = sklLinear.Ridge(alpha=40).fit(neutral_training, smiling_training-neutral_training)"
   ]
  },
  {
   "cell_type": "code",
   "execution_count": 185,
   "metadata": {
    "collapsed": true
   },
   "outputs": [],
   "source": [
    "rr_twist_pred = normalize(rr_twist.predict(neutral_test)+neutral_test)"
   ]
  },
  {
   "cell_type": "markdown",
   "metadata": {},
   "source": [
    "# Idea"
   ]
  },
  {
   "cell_type": "code",
   "execution_count": 186,
   "metadata": {
    "collapsed": false
   },
   "outputs": [],
   "source": [
    "class Idea:\n",
    "  def __init__(self, k=5, alpha=1):\n",
    "    self.k = k\n",
    "    self.alpha = alpha\n",
    "    self.s = np.zeros(FACES_SHAPE)\n",
    "    self.d = FACES_SHAPE[0] - k + 1\n",
    "    for i in range(k):\n",
    "      self.s[i:i+self.d,:] += 1\n",
    "    print self.s\n",
    "    self.s = 1 / (self.s.flatten())\n",
    "    \n",
    "  def fit(self, X, Y):\n",
    "    n, d = X.shape\n",
    "    \n",
    "    print X.shape\n",
    "    print Y.shape\n",
    "    \n",
    "    X = X.reshape(n, *FACES_SHAPE)\n",
    "    Y = Y.reshape(n, *FACES_SHAPE)\n",
    "    X2 = []\n",
    "    Y2 = []\n",
    "    for j in range(self.k):\n",
    "      X2.append(X[:,j:j+self.d,:].flatten())\n",
    "      Y2.append(Y[:,j:j+self.d,:].flatten())\n",
    "    X = np.array(X2).reshape(self.k*n, -1)\n",
    "    Y = np.array(Y2).reshape(self.k*n, -1)\n",
    "\n",
    "    self.W = sklLinear.Ridge(alpha=self.alpha).fit(X, Y)\n",
    "\n",
    "    print X.shape\n",
    "    print Y.shape\n",
    "    \n",
    "    return self\n",
    "  \n",
    "  def predict(self, X):\n",
    "    n, d = X.shape\n",
    "    X = X.reshape(n, *FACES_SHAPE)\n",
    "    X2 = []\n",
    "    for j in range(self.k):\n",
    "      X2.append(X[:,j:j+self.d,:].flatten())\n",
    "    X = np.array(X2).reshape(self.k*n, -1)\n",
    "    Y2 = self.W.predict(X).reshape(self.k, n, self.d, FACES_SHAPE[1])\n",
    "    Y = np.zeros((n,) + FACES_SHAPE)\n",
    "    for j in range(self.k):\n",
    "      Y[:,j:j+self.d,:] += Y2[j]\n",
    "    Y = Y.reshape(n, -1)\n",
    "    Y *= self.s\n",
    "    return Y"
   ]
  },
  {
   "cell_type": "code",
   "execution_count": 200,
   "metadata": {
    "collapsed": false
   },
   "outputs": [
    {
     "name": "stdout",
     "output_type": "stream",
     "text": [
      "[[ 1.  1.  1. ...,  1.  1.  1.]\n",
      " [ 2.  2.  2. ...,  2.  2.  2.]\n",
      " [ 3.  3.  3. ...,  3.  3.  3.]\n",
      " ..., \n",
      " [ 3.  3.  3. ...,  3.  3.  3.]\n",
      " [ 2.  2.  2. ...,  2.  2.  2.]\n",
      " [ 1.  1.  1. ...,  1.  1.  1.]]\n",
      "(600, 9216)\n",
      "(600, 9216)\n",
      "(12000, 7392)\n",
      "(12000, 7392)\n"
     ]
    }
   ],
   "source": [
    "idea = Idea(alpha=0.1, k=20).fit(neutral_training, smiling_training)"
   ]
  },
  {
   "cell_type": "code",
   "execution_count": null,
   "metadata": {
    "collapsed": false
   },
   "outputs": [],
   "source": [
    "pred = normalize(idea.predict(neutral_test))"
   ]
  },
  {
   "cell_type": "code",
   "execution_count": null,
   "metadata": {
    "collapsed": false
   },
   "outputs": [],
   "source": [
    "idea2 = Idea(alpha=40, k=20).fit(neutral_training, smiling_training-neutral_training)"
   ]
  },
  {
   "cell_type": "code",
   "execution_count": null,
   "metadata": {
    "collapsed": true
   },
   "outputs": [],
   "source": [
    "pred2 = normalize(idea2.predict(neutral_test) + neutral_test)"
   ]
  },
  {
   "cell_type": "code",
   "execution_count": null,
   "metadata": {
    "collapsed": false
   },
   "outputs": [],
   "source": [
    "plot_many(FACES_SHAPE, 6, rr_pred[:5], neutral_test[:5], pred[:5], smiling_test[:5], pred2[:5], rr_twist_pred[:5])\n",
    "print MSE(smiling_test, rr_pred)\n",
    "print MSE(smiling_test, pred)\n",
    "print MSE(smiling_test, pred2)\n",
    "print MSE(smiling_test, rr_twist_pred)"
   ]
  },
  {
   "cell_type": "code",
   "execution_count": null,
   "metadata": {
    "collapsed": false
   },
   "outputs": [],
   "source": [
    "plot_many(FACES_SHAPE, 4, rr.predict(obama), idea.predict(obama), idea2.predict(obama) + obama, rr_twist.predict(obama) + obama)"
   ]
  },
  {
   "cell_type": "markdown",
   "metadata": {},
   "source": [
    "# MNIST"
   ]
  },
  {
   "cell_type": "markdown",
   "metadata": {},
   "source": [
    "## Constants"
   ]
  },
  {
   "cell_type": "code",
   "execution_count": 172,
   "metadata": {
    "collapsed": true
   },
   "outputs": [],
   "source": [
    "MNIST_DIM = 784\n",
    "MNIST_SHAPE = (28, 28)\n",
    "\n",
    "MNIST_HDIM = 392\n",
    "MNIST_HSHAPE = (28, 14)\n",
    "\n",
    "MNIST_TRAINING = 'train-images-idx3-ubyte'\n",
    "MNIST_TEST = 't10k-images-idx3-ubyte'\n",
    "\n",
    "MNIST_SPLIT = 14\n",
    "MNIST_REPEAT = 1\n",
    "MNIST_DISTORTION = 0"
   ]
  },
  {
   "cell_type": "markdown",
   "metadata": {},
   "source": [
    "## Load digits"
   ]
  },
  {
   "cell_type": "code",
   "execution_count": null,
   "metadata": {
    "collapsed": false
   },
   "outputs": [],
   "source": [
    "def read_mnist(filename):\n",
    "  with open(filename, 'rb') as f:\n",
    "    magic, num, rows, cols = struct.unpack(\">IIII\", f.read(16))\n",
    "    return np.fromfile(f, dtype=np.uint8).astype(np.float_).reshape(num, rows, cols) / 255\n",
    "\n",
    "mnist_training = read_mnist(MNIST_TRAINING)\n",
    "mnist_test = read_mnist(MNIST_TEST)"
   ]
  },
  {
   "cell_type": "markdown",
   "metadata": {},
   "source": [
    "## Split into input/output and training/testing"
   ]
  },
  {
   "cell_type": "code",
   "execution_count": null,
   "metadata": {
    "collapsed": false
   },
   "outputs": [],
   "source": [
    "mnist_training_l = mnist_training[:,:,:MNIST_SPLIT].reshape(-1, MNIST_HDIM)\n",
    "mnist_training_r = mnist_training[:,:,MNIST_SPLIT:].reshape(-1, MNIST_HDIM)\n",
    "\n",
    "mnist_test_l = mnist_test[:,:,:MNIST_SPLIT].reshape(-1, MNIST_HDIM)\n",
    "mnist_test_r = mnist_test[:,:,MNIST_SPLIT:].reshape(-1, MNIST_HDIM)\n",
    "\n",
    "mnist_training = mnist_training.reshape(-1, MNIST_DIM)\n",
    "mnist_test = mnist_test.reshape(-1, MNIST_DIM)"
   ]
  },
  {
   "cell_type": "code",
   "execution_count": null,
   "metadata": {
    "collapsed": true
   },
   "outputs": [],
   "source": [
    "def mnist_join(left, right):\n",
    "  return np.append(left.reshape(-1, *MNIST_HSHAPE), right.reshape(-1, *MNIST_HSHAPE),\n",
    "                   axis=2).reshape(-1, MNIST_DIM)"
   ]
  },
  {
   "cell_type": "markdown",
   "metadata": {},
   "source": [
    "## Ridge Regression"
   ]
  },
  {
   "cell_type": "code",
   "execution_count": null,
   "metadata": {
    "collapsed": false
   },
   "outputs": [],
   "source": [
    "class MNIST_RidgeRegression:\n",
    "  def __init__(self, beta=1):\n",
    "    self.beta = beta\n",
    "  def set_x(self, X1, X2):\n",
    "    self.X1 = X1.T\n",
    "    self.X2 = X2.T\n",
    "    self.X = self.X1.T.dot(self.X2) + 1\n",
    "  def set_y(self, Y1, Y2):\n",
    "    self.Y1 = Y1.T\n",
    "    self.Y2 = Y2.T\n",
    "  def __call__(self, k):\n",
    "    ks = []\n",
    "    r = k / 14\n",
    "    c = k % 14\n",
    "    if c > 0: ks += [k - 1]\n",
    "    if c < 13: ks += [k + 1]\n",
    "    if r > 0: ks += [k - 14]\n",
    "    if r < 27: ks += [k + 14]\n",
    "    Ky = self.Y1[ks].T.dot(self.Y2[ks])\n",
    "    if c == 0: Ky += np.outer(self.X1[k+13], self.X2[k+13])\n",
    "    return (self.X + 1)**3 + self.beta * Ky"
   ]
  },
  {
   "cell_type": "code",
   "execution_count": null,
   "metadata": {
    "collapsed": false
   },
   "outputs": [],
   "source": [
    "with Timer(\"Training (dot + 1)**2 + beta\"):\n",
    "  rr = (SOAR(MNIST_RidgeRegression(beta=10), batch_size=1000, alpha=100)\n",
    "        .fit(mnist_training_l[:3000], mnist_training_r[:3000]))\n",
    "  rr.verbose = 20\n",
    "  rrp = rr.predict(mnist_test_l[:100])\n",
    "  \n",
    "with Timer(\"Training (dot + 1)**2\"):\n",
    "  rr2 = (SOAR(MNIST_RidgeRegression(beta=0), batch_size=1000, alpha=100)\n",
    "        .fit(mnist_training_l[:3000], mnist_training_r[:3000]))\n",
    "  rr2.verbose = 20\n",
    "  rr2p = rr2.predict(mnist_test_l[:100])\n",
    "\n",
    "rr_digits = mnist_join(mnist_test_l[:100], rrp)\n",
    "rr2_digits = mnist_join(mnist_test_l[:100], rr2p)\n",
    "  \n",
    "plot_many(MNIST_SHAPE, 3, mnist_test[:28], rr_digits[:28], rr2_digits[:28])\n",
    "print MSE(rrp, mnist_test_r[:100])\n",
    "print MSE(rr2p, mnist_test_r[:100])"
   ]
  },
  {
   "cell_type": "code",
   "execution_count": null,
   "metadata": {
    "collapsed": false
   },
   "outputs": [],
   "source": [
    "rrp_training = rr.predict(mnist_training_l[:5])\n",
    "rr_digits_training = mnist_join(mnist_training_l[:5], rrp_training)\n",
    "plot_many(MNIST_SHAPE, 2, mnist_training[:5], rr_digits_training)"
   ]
  },
  {
   "cell_type": "code",
   "execution_count": null,
   "metadata": {
    "collapsed": false
   },
   "outputs": [],
   "source": [
    "def mnist_threshold(predictions, left, threshold=.3):\n",
    "  predictions_threshold = predictions.copy()\n",
    "  predictions_threshold[predictions < threshold] = 0\n",
    "  predictions_digits = mnist_join(left, predictions_threshold)\n",
    "  return predictions_threshold, predictions_digits\n",
    "  \n",
    "rrp_threshold, rr_digits_threshold = mnist_threshold(rrp, mnist_test_l[:100])\n",
    "rr2p_threshold, rr2_digits_threshold = mnist_threshold(rr2p, mnist_test_l[:100])\n",
    "\n",
    "plot_many(MNIST_SHAPE, 3, mnist_test[:28], rr_digits_threshold[:28], rr2_digits_threshold[:28])\n",
    "print MSE(rrp_threshold, mnist_test_r[:100])\n",
    "print MSE(rr2p_threshold, mnist_test_r[:100])"
   ]
  },
  {
   "cell_type": "code",
   "execution_count": null,
   "metadata": {
    "collapsed": false
   },
   "outputs": [],
   "source": [
    "rrp_training_threshold, rr_digits_training_threshold = mnist_threshold(rrp_training, mnist_training_l[:5])\n",
    "plot_many(MNIST_SHAPE, 2, mnist_training[:5], rr_digits_training_threshold)\n",
    "print MSE(rrp_training_threshold, mnist_training_r[:5])"
   ]
  },
  {
   "cell_type": "code",
   "execution_count": null,
   "metadata": {
    "collapsed": true
   },
   "outputs": [],
   "source": []
  }
 ],
 "metadata": {
  "kernelspec": {
   "display_name": "Python 2",
   "language": "python",
   "name": "python2"
  },
  "language_info": {
   "codemirror_mode": {
    "name": "ipython",
    "version": 2
   },
   "file_extension": ".py",
   "mimetype": "text/x-python",
   "name": "python",
   "nbconvert_exporter": "python",
   "pygments_lexer": "ipython2",
   "version": "2.7.11"
  }
 },
 "nbformat": 4,
 "nbformat_minor": 0
}
