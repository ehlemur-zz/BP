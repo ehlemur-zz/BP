{
 "cells": [
  {
   "cell_type": "code",
   "execution_count": 1,
   "metadata": {
    "collapsed": false
   },
   "outputs": [],
   "source": [
    "import glob\n",
    "import scipy.ndimage\n",
    "import sklearn.linear_model\n",
    "import scipy.ndimage.filters\n",
    "\n",
    "import numpy as np\n",
    "import pylab as plt\n",
    "\n",
    "import lemur_util\n",
    "\n",
    "from lemur_pca import lemur_PCA\n",
    "from lemur_soar import LemurSOAR\n",
    "\n",
    "\n",
    "%matplotlib inline\n",
    "plt.rcParams['figure.figsize'] = (10.0, 10.0)\n",
    "\n",
    "N_IMAGES = 200\n",
    "NEUTRAL_FACES_GLOB = 'faces/*a*'  # Select all the neutral faces\n",
    "SMILING_FACES_GLOB = 'faces/*b*'  # Select all the smiling faces\n",
    "\n",
    "N_TEST = 5\n",
    "N_TRAINING = N_IMAGES - N_TEST\n",
    "N_TRAINING_2 = 70\n",
    "N_TEST_2 = N_IMAGES - 2*N_TRAINING_2\n",
    "\n",
    "KAGGLE_FACES = 'faces.txt'\n",
    "N_FEATURES = 3000\n",
    "\n",
    "\n",
    "# Load neutral faces\n",
    "neutral = []\n",
    "for filename in sorted(glob.glob(NEUTRAL_FACES_GLOB)):\n",
    "  neutral.append(scipy.ndimage.imread(filename, flatten=True).flatten() / 255)\n",
    "neutral = np.array(neutral)\n",
    "\n",
    "# Load smiling faces\n",
    "smiling = []\n",
    "for filename in sorted(glob.glob(SMILING_FACES_GLOB)):\n",
    "  smiling.append(scipy.ndimage.imread(filename, flatten=True).flatten() / 255)\n",
    "smiling = np.array(smiling)\n",
    "\n",
    "V = lemur_PCA(KAGGLE_FACES, N_FEATURES, 2)"
   ]
  },
  {
   "cell_type": "code",
   "execution_count": 2,
   "metadata": {
    "collapsed": false
   },
   "outputs": [],
   "source": [
    "from lemur_soar import LemurSOAR\n",
    "\n",
    "N_TEST = 5\n",
    "N_TRAINING = N_IMAGES - N_TEST\n",
    "\n",
    "# Shuffle images\n",
    "p = np.random.permutation(smiling.shape[0])\n",
    "\n",
    "neutral = neutral[p]\n",
    "smiling = smiling[p]\n",
    "\n",
    "neutral_pca = neutral.dot(V)\n",
    "smiling_pca = smiling.dot(V)\n",
    "\n",
    "neutral_training = neutral[:N_TRAINING]\n",
    "smiling_training = smiling[:N_TRAINING]\n",
    "\n",
    "neutral_training_pca = neutral_pca[:N_TRAINING]\n",
    "smiling_training_pca = smiling_pca[:N_TRAINING]\n",
    "\n",
    "neutral_test = neutral[N_TRAINING:]\n",
    "smiling_test = smiling[N_TRAINING:]\n",
    "\n",
    "neutral_test_pca = neutral_pca[N_TRAINING:]\n",
    "smiling_test_pca = smiling_pca[N_TRAINING:]\n",
    "\n",
    "neutral_training = np.append(neutral_training, smiling[:N_TRAINING], axis=0)\n",
    "smiling_training = np.append(smiling_training, smiling[:N_TRAINING], axis=0)\n",
    "\n",
    "neutral_training_pca = np.append(neutral_training_pca, smiling_pca[:N_TRAINING], axis=0)\n",
    "smiling_training_pca = np.append(smiling_training_pca, smiling_pca[:N_TRAINING], axis=0)\n",
    "\n",
    "neutral_training_2a = neutral_pca[:N_TRAINING_2]\n",
    "neutral_training_2b = neutral_pca[N_TRAINING_2:2*N_TRAINING_2]\n",
    "\n",
    "smiling_training_2a = smiling_pca[:N_TRAINING_2]\n",
    "smiling_training_2b = smiling_pca[N_TRAINING_2:2*N_TRAINING_2]\n",
    "\n",
    "neutral_test_2 = neutral_pca[2*N_TRAINING_2:]\n",
    "smiling_test_2 = smiling_pca[2*N_TRAINING_2:]\n",
    "\n",
    "neutral_training_2a = np.append(neutral_training_2a, smiling_training_2a, axis=0)\n",
    "smiling_training_2a = np.append(smiling_training_2a, smiling_training_2a, axis=0)\n",
    "\n",
    "neutral_training_2b = np.append(neutral_training_2b, smiling_training_2b, axis=0)\n",
    "smiling_training_2b = np.append(smiling_training_2b, smiling_training_2b, axis=0)"
   ]
  },
  {
   "cell_type": "code",
   "execution_count": null,
   "metadata": {
    "collapsed": false
   },
   "outputs": [],
   "source": [
    "class Lemur:\n",
    "  def __init__(self, X, Y, r1=40, r2=.1):\n",
    "    n, d = X.shape\n",
    "    X = X.T\n",
    "    Y = Y.T\n",
    "    I_d = np.eye(d)\n",
    "    M = np.eye(n) + 1.0/r1 * X.T.dot(X) + 1.0/r2 * Y.T.dot(Y)\n",
    "    U = np.zeros((d, d))\n",
    "    V = np.zeros((d, d))\n",
    "    for i in range(d):\n",
    "      alpha = np.linalg.inv(M - np.outer(Y[i], Y[i])).dot(Y[i] - X[i])\n",
    "      beta = -Y[i].dot(alpha)\n",
    "      U[i] = 1.0/r1 * X.dot(alpha) + I_d[i]\n",
    "      V[i] = 1.0/r2 * Y.dot(alpha) + beta/r2 * I_d[i]\n",
    "    W = V.T - I_d\n",
    "    self.W = U.T.dot(-W.T).dot(np.linalg.inv(W.dot(W.T)))\n",
    "  def predict(self, X):\n",
    "    return X.dot(self.W)\n",
    "  \n",
    "lemur = Lemur(neutral_training_pca, smiling_training_pca)"
   ]
  },
  {
   "cell_type": "code",
   "execution_count": null,
   "metadata": {
    "collapsed": false
   },
   "outputs": [],
   "source": [
    "predictions = lemur.predict(neutral_test_pca).dot(V.T)\n",
    "lemur_util.plot_predictions(neutral_test, predictions, smiling_test)\n",
    "predictions = lemur.predict(neutral_training_pca[:N_TEST]).dot(V.T)\n",
    "lemur_util.plot_predictions(neutral_training[:N_TEST], predictions, smiling_training[:N_TEST])"
   ]
  },
  {
   "cell_type": "code",
   "execution_count": null,
   "metadata": {
    "collapsed": true
   },
   "outputs": [],
   "source": []
  }
 ],
 "metadata": {
  "kernelspec": {
   "display_name": "Python 2",
   "language": "python",
   "name": "python2"
  },
  "language_info": {
   "codemirror_mode": {
    "name": "ipython",
    "version": 2
   },
   "file_extension": ".py",
   "mimetype": "text/x-python",
   "name": "python",
   "nbconvert_exporter": "python",
   "pygments_lexer": "ipython2",
   "version": "2.7.11"
  }
 },
 "nbformat": 4,
 "nbformat_minor": 0
}
